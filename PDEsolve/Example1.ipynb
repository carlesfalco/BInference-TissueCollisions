{
 "cells": [
  {
   "cell_type": "code",
   "execution_count": 1,
   "id": "6d416ba5",
   "metadata": {},
   "outputs": [],
   "source": [
    "import numpy as np\n",
    "from PDEsolver import *\n",
    "import matplotlib.pyplot as plt\n",
    "\n",
    "from matplotlib import rcParams\n",
    "\n",
    "params = {'legend.fontsize': 'medium',\n",
    "         'axes.labelsize': 'x-large',\n",
    "         'axes.titlesize':'medium',\n",
    "         'xtick.labelsize':'medium',\n",
    "         'ytick.labelsize':'medium',\n",
    "         'font.family': 'sans-serif',\n",
    "         'text.usetex': True}\n",
    "rcParams.update(params)"
   ]
  },
  {
   "cell_type": "code",
   "execution_count": 2,
   "id": "5d08a462",
   "metadata": {},
   "outputs": [
    {
     "name": "stdout",
     "output_type": "stream",
     "text": [
      "0.04666666666666667 0.04666666666666667\n"
     ]
    }
   ],
   "source": [
    "Nx = 150\n",
    "Ny = 150\n",
    "Lx = 7\n",
    "Ly = 7\n",
    "dt = .01\n",
    "tmax = 50\n",
    "dx = Lx/Nx\n",
    "dy = Ly/Ny\n",
    "D,r,pmax = 1.07337996e+03*1e-6, 2.93135177e-01, 5.11310719e+03\n",
    "\n",
    "print(dx,dy)\n",
    "xspan = np.linspace(-Lx + dx/2, Lx - dx/2, int(2*Nx))\n",
    "yspan = np.linspace(-Ly + dy/2, Ly - dy/2, int(2*Ny))\n",
    "\n",
    "X,Y = np.meshgrid(xspan,yspan)\n",
    "\n",
    "x, y = np.linspace(-Lx,Lx,500), np.linspace(-Lx,Lx,500)\n",
    "X2,Y2 = np.meshgrid(x,y)\n",
    "\n",
    "\n",
    "dens_i = 2600\n",
    "\n",
    "init_rho_1 = np.array([[dens_i if (i+1.2 + (.75/2-.25))**2 + (j)**2 < 1.2**2 else 0 for i in xspan] for j in yspan])\n",
    "init_rho_2 = np.array([[dens_i if abs(i - .25 - (.75/2+.25)) < .75/2 and abs(j) < 7.5/2 else 0 for i in xspan] for j in yspan])"
   ]
  },
  {
   "cell_type": "code",
   "execution_count": 53,
   "id": "51312e69",
   "metadata": {},
   "outputs": [
    {
     "name": "stdout",
     "output_type": "stream",
     "text": [
      "t = 50.00\r"
     ]
    }
   ],
   "source": [
    "solver = fisher_2species(Lx,Ly,Nx,Ny,dt,init_rho_1,init_rho_2,tmax,D,r,pmax) # Fisher model\n",
    "rho_sol = solver.solve()"
   ]
  },
  {
   "cell_type": "code",
   "execution_count": 60,
   "id": "de10b59f",
   "metadata": {},
   "outputs": [
    {
     "name": "stdout",
     "output_type": "stream",
     "text": [
      "Linear diffusion model\n"
     ]
    },
    {
     "data": {
      "image/png": "[encoded data removed]",
      "text/plain": [
       "<Figure size 720x360 with 10 Axes>"
      ]
     },
     "metadata": {
      "needs_background": "light"
     },
     "output_type": "display_data"
    }
   ],
   "source": [
    "rho1 = np.array([rho_sol[i][0] for i in range(len(rho_sol)) if i%10 == 0])\n",
    "rho2 = np.array([rho_sol[i][1] for i in range(len(rho_sol)) if i%10 == 0])\n",
    "fig,ax = plt.subplots(2,5,figsize = (10,5))\n",
    "\n",
    "print('Linear diffusion model')\n",
    "\n",
    "indexes = [0,100,200,400,500]\n",
    "\n",
    "for i in range(5):\n",
    "    ax[0,i].contourf(X,Y,rho1[indexes[i]],cmap = 'Reds')\n",
    "    ax[1,i].contourf(X,Y,rho2[indexes[i]],cmap = 'Blues')\n",
    "    ax[0,i].set_xticklabels([])\n",
    "    ax[0,i].set_aspect('equal')\n",
    "    ax[1,i].set_aspect('equal')\n",
    "    if i > 0:\n",
    "        ax[0,i].set_yticklabels([])\n",
    "        ax[1,i].set_yticklabels([])\n",
    "\n",
    "ax[0,0].set_ylabel('$\\\\rho_1$')\n",
    "ax[1,0].set_ylabel('$\\\\rho_2$')\n",
    "plt.tight_layout()\n",
    "plt.show()"
   ]
  },
  {
   "cell_type": "code",
   "execution_count": 3,
   "id": "9bd15284",
   "metadata": {},
   "outputs": [
    {
     "name": "stdout",
     "output_type": "stream",
     "text": [
      "t = 50.00\r"
     ]
    }
   ],
   "source": [
    "D,r,pmax = 0.0011982965199849086*1e-3, 0.21258222483199546, 5320.799183670731\n",
    "solver = porous_2species(Lx,Ly,Nx,Ny,dt,init_rho_1,init_rho_2,tmax,D,r,pmax) # Porous model\n",
    "rho_sol = solver.solve()"
   ]
  },
  {
   "cell_type": "code",
   "execution_count": 7,
   "id": "971dbd1b",
   "metadata": {},
   "outputs": [
    {
     "name": "stdout",
     "output_type": "stream",
     "text": [
      "Nonlinear diffusion model\n"
     ]
    },
    {
     "data": {
      "image/png": "[encoded data removed]",
      "text/plain": [
       "<Figure size 720x360 with 10 Axes>"
      ]
     },
     "metadata": {
      "needs_background": "light"
     },
     "output_type": "display_data"
    }
   ],
   "source": [
    "rho1 = np.array([rho_sol[i][0] for i in range(len(rho_sol)) if i%10 == 0])\n",
    "rho2 = np.array([rho_sol[i][1] for i in range(len(rho_sol)) if i%10 == 0])\n",
    "fig,ax = plt.subplots(2,5,figsize = (10,5))\n",
    "\n",
    "print('Nonlinear diffusion model')\n",
    "\n",
    "indexes = [0,100,200,400,500]\n",
    "\n",
    "for i in range(5):\n",
    "    ax[0,i].contourf(X,Y,rho1[indexes[i]] + 1e-67,cmap = 'Reds')\n",
    "    ax[1,i].contourf(X,Y,rho2[indexes[i]],cmap = 'Blues')\n",
    "    ax[0,i].set_xticklabels([])\n",
    "    ax[0,i].set_aspect('equal')\n",
    "    ax[1,i].set_aspect('equal')\n",
    "    if i > 0:\n",
    "        ax[0,i].set_yticklabels([])\n",
    "        ax[1,i].set_yticklabels([])\n",
    "\n",
    "ax[0,0].set_ylabel('$\\\\rho_1$')\n",
    "ax[1,0].set_ylabel('$\\\\rho_2$')\n",
    "plt.tight_layout()\n",
    "plt.show()"
   ]
  },
  {
   "cell_type": "code",
   "execution_count": null,
   "id": "61bd50e5",
   "metadata": {},
   "outputs": [],
   "source": []
  }
 ],
 "metadata": {
  "kernelspec": {
   "display_name": "Python 3 (ipykernel)",
   "language": "python",
   "name": "python3"
  },
  "language_info": {
   "codemirror_mode": {
    "name": "ipython",
    "version": 3
   },
   "file_extension": ".py",
   "mimetype": "text/x-python",
   "name": "python",
   "nbconvert_exporter": "python",
   "pygments_lexer": "ipython3",
   "version": "3.9.7"
  }
 },
 "nbformat": 4,
 "nbformat_minor": 5
}
