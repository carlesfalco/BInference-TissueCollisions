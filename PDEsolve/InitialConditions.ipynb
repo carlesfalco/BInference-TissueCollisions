{
 "cells": [
  {
   "cell_type": "code",
   "execution_count": 1,
   "id": "49f975d6",
   "metadata": {},
   "outputs": [],
   "source": [
    "# Initial conditions for different collisions"
   ]
  },
  {
   "cell_type": "code",
   "execution_count": 2,
   "id": "85879424",
   "metadata": {},
   "outputs": [],
   "source": [
    "import numpy as np\n",
    "import matplotlib.pyplot as plt\n",
    "\n",
    "from matplotlib import rcParams\n",
    "\n",
    "params = {'legend.fontsize': 'medium',\n",
    "         'axes.labelsize': 'x-large',\n",
    "         'axes.titlesize':'medium',\n",
    "         'xtick.labelsize':'medium',\n",
    "         'ytick.labelsize':'medium',\n",
    "         'font.family': 'sans-serif',\n",
    "         'text.usetex': True}\n",
    "rcParams.update(params)"
   ]
  },
  {
   "cell_type": "code",
   "execution_count": 6,
   "id": "77a1f715",
   "metadata": {},
   "outputs": [
    {
     "data": {
      "image/png": "[encoded data removed]",
      "text/plain": [
       "<Figure size 432x288 with 2 Axes>"
      ]
     },
     "metadata": {
      "needs_background": "light"
     },
     "output_type": "display_data"
    },
    {
     "data": {
      "image/png": "[encoded data removed]",
      "text/plain": [
       "<Figure size 432x288 with 2 Axes>"
      ]
     },
     "metadata": {
      "needs_background": "light"
     },
     "output_type": "display_data"
    },
    {
     "data": {
      "image/png": "[encoded data removed]",
      "text/plain": [
       "<Figure size 432x288 with 2 Axes>"
      ]
     },
     "metadata": {
      "needs_background": "light"
     },
     "output_type": "display_data"
    },
    {
     "data": {
      "image/png": "[encoded data removed]",
      "text/plain": [
       "<Figure size 432x288 with 2 Axes>"
      ]
     },
     "metadata": {
      "needs_background": "light"
     },
     "output_type": "display_data"
    }
   ],
   "source": [
    "Nx = 100\n",
    "Ny = 100\n",
    "Lx = 7\n",
    "Ly = 7\n",
    "dx = Lx/Nx\n",
    "dy = Ly/Ny\n",
    "xspan = np.linspace(-Lx + dx/2, Lx - dx/2, int(2*Nx))\n",
    "yspan = np.linspace(-Ly + dy/2, Ly - dy/2, int(2*Ny))\n",
    "X,Y = np.meshgrid(xspan,yspan)\n",
    "x, y = np.linspace(-Lx,Lx,500), np.linspace(-Lx,Lx,500)\n",
    "X2,Y2 = np.meshgrid(x,y)\n",
    "\n",
    "\n",
    "dens_i = 2600\n",
    "\n",
    "# Circle-circle\n",
    "\n",
    "init_rho_1 = np.array([[dens_i if (i+1 + .75/2)**2 + (j)**2 < 1**2 else 0 for i in xspan] for j in yspan])\n",
    "init_rho_2 = np.array([[dens_i if (i-1 - .75/2)**2 + (j)**2 < 1**2 else 0 for i in xspan] for j in yspan])\n",
    "\n",
    "fig,ax = plt.subplots(1,2)\n",
    "\n",
    "ax[0].imshow(init_rho_1)\n",
    "ax[1].imshow(init_rho_2)\n",
    "\n",
    "plt.show()\n",
    "\n",
    "# Circle-rectangle\n",
    "\n",
    "init_rho_1 = np.array([[dens_i if (i+1.2 + (.75/2-.25))**2 + (j)**2 < 1.2**2 else 0 for i in xspan] for j in yspan])\n",
    "init_rho_2 = np.array([[dens_i if abs(i - .25 - (.75/2+.25)) < .75/2 and abs(j) < 7.5/2 else 0 for i in xspan] for j in yspan])\n",
    "\n",
    "fig,ax = plt.subplots(1,2)\n",
    "\n",
    "ax[0].imshow(init_rho_1)\n",
    "ax[1].imshow(init_rho_2)\n",
    "\n",
    "plt.show()\n",
    "\n",
    "#Circle-BigCircle\n",
    "\n",
    "\n",
    "init_rho_1 = np.array([[dens_i if (i+2 + (.75/2-1))**2 + (j)**2 < 2**2 else 0 for i in xspan] for j in yspan])\n",
    "init_rho_2 = np.array([[dens_i if (i-1 - (.75/2+1))**2 + (j)**2 < 1**2 else 0 for i in xspan] for j in yspan])\n",
    "\n",
    "fig,ax = plt.subplots(1,2)\n",
    "\n",
    "ax[0].imshow(init_rho_1)\n",
    "ax[1].imshow(init_rho_2)\n",
    "\n",
    "plt.show()\n",
    "\n",
    "# Rectangle-rectangle \n",
    "\n",
    "init_rho_1 = np.array([[dens_i if abs(i + .25 + .75/2) < .75/2 and abs(j) < 7.5/2 else 0 for i in xspan] for j in yspan])\n",
    "init_rho_2 = np.array([[dens_i if abs(i - .25 - .75/2) < .75/2 and abs(j) < 7.5/2 else 0 for i in xspan] for j in yspan])\n",
    "\n",
    "fig,ax = plt.subplots(1,2)\n",
    "\n",
    "ax[0].imshow(init_rho_1)\n",
    "ax[1].imshow(init_rho_2)\n",
    "\n",
    "plt.show()"
   ]
  }
 ],
 "metadata": {
  "kernelspec": {
   "display_name": "Python 3 (ipykernel)",
   "language": "python",
   "name": "python3"
  },
  "language_info": {
   "codemirror_mode": {
    "name": "ipython",
    "version": 3
   },
   "file_extension": ".py",
   "mimetype": "text/x-python",
   "name": "python",
   "nbconvert_exporter": "python",
   "pygments_lexer": "ipython3",
   "version": "3.9.7"
  }
 },
 "nbformat": 4,
 "nbformat_minor": 5
}
